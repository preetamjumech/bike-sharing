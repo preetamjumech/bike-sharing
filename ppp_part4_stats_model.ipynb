{
 "cells": [
  {
   "cell_type": "code",
   "execution_count": 1,
   "id": "c8f69488",
   "metadata": {},
   "outputs": [],
   "source": [
    "import pandas as pd\n",
    "import numpy as np\n",
    "import matplotlib.pyplot as plt\n",
    "import seaborn as sns\n",
    "%matplotlib inline"
   ]
  },
  {
   "cell_type": "code",
   "execution_count": 2,
   "id": "e42a4095",
   "metadata": {},
   "outputs": [],
   "source": [
    "df=pd.read_csv(\"Model2.csv\")"
   ]
  },
  {
   "cell_type": "code",
   "execution_count": 3,
   "id": "3ecb34d5",
   "metadata": {},
   "outputs": [],
   "source": [
    "df.drop([\"Unnamed: 0\"],axis=1,inplace=True)"
   ]
  },
  {
   "cell_type": "code",
   "execution_count": 4,
   "id": "6b9e3657",
   "metadata": {},
   "outputs": [
    {
     "data": {
      "text/plain": [
       "Index(['season', 'yr', 'mnth', 'weathersit', 'temp', 'registered', 'cnt',\n",
       "       'weekend', 'daytype', 'windspeed_median', 'hum_median', 'fri', 'mon',\n",
       "       'sat', 'sun', 'thur', 'tue', 'wed'],\n",
       "      dtype='object')"
      ]
     },
     "execution_count": 4,
     "metadata": {},
     "output_type": "execute_result"
    }
   ],
   "source": [
    "df.columns"
   ]
  },
  {
   "cell_type": "code",
   "execution_count": 5,
   "id": "e9e0cfbc",
   "metadata": {},
   "outputs": [],
   "source": [
    "X=df.drop([\"cnt\"],axis=1)"
   ]
  },
  {
   "cell_type": "code",
   "execution_count": 6,
   "id": "ef4f6910",
   "metadata": {},
   "outputs": [],
   "source": [
    "y=df[\"cnt\"]"
   ]
  },
  {
   "cell_type": "code",
   "execution_count": 7,
   "id": "be1261dd",
   "metadata": {},
   "outputs": [],
   "source": [
    "from sklearn.model_selection import train_test_split\n",
    "X_train, X_test, y_train, y_test = train_test_split(X, y, test_size=0.3,shuffle=False, random_state=1)"
   ]
  },
  {
   "cell_type": "code",
   "execution_count": 8,
   "id": "7a4132c2",
   "metadata": {},
   "outputs": [],
   "source": [
    "import statsmodels.api as sm"
   ]
  },
  {
   "cell_type": "code",
   "execution_count": 9,
   "id": "13429a0e",
   "metadata": {},
   "outputs": [],
   "source": [
    "def regression_results(x,y):\n",
    "    x=sm.add_constant(x)\n",
    "    model=sm.OLS(y,x).fit()\n",
    "    print(model.summary())"
   ]
  },
  {
   "cell_type": "code",
   "execution_count": 10,
   "id": "9188b584",
   "metadata": {},
   "outputs": [
    {
     "name": "stdout",
     "output_type": "stream",
     "text": [
      "                            OLS Regression Results                            \n",
      "==============================================================================\n",
      "Dep. Variable:                    cnt   R-squared:                       0.955\n",
      "Model:                            OLS   Adj. R-squared:                  0.954\n",
      "Method:                 Least Squares   F-statistic:                     698.9\n",
      "Date:                Sat, 18 Jun 2022   Prob (F-statistic):          1.20e-321\n",
      "Time:                        22:10:01   Log-Likelihood:                -3698.4\n",
      "No. Observations:                 511   AIC:                             7429.\n",
      "Df Residuals:                     495   BIC:                             7497.\n",
      "Df Model:                          15                                         \n",
      "Covariance Type:            nonrobust                                         \n",
      "====================================================================================\n",
      "                       coef    std err          t      P>|t|      [0.025      0.975]\n",
      "------------------------------------------------------------------------------------\n",
      "const             1125.2290    241.245      4.664      0.000     651.239    1599.219\n",
      "season               0.2291     30.058      0.008      0.994     -58.828      59.286\n",
      "yr                -144.4466     64.419     -2.242      0.025    -271.014     -17.879\n",
      "mnth               -22.3790      9.180     -2.438      0.015     -40.416      -4.342\n",
      "weathersit          16.9746     39.245      0.433      0.666     -60.133      94.082\n",
      "temp              1187.5747    135.167      8.786      0.000     922.002    1453.147\n",
      "registered           1.2482      0.028     43.940      0.000       1.192       1.304\n",
      "weekend            -29.0463     90.291     -0.322      0.748    -206.446     148.354\n",
      "daytype           -603.8592    101.162     -5.969      0.000    -802.620    -405.099\n",
      "windspeed_median  -605.3759    215.923     -2.804      0.005   -1029.615    -181.137\n",
      "hum_median        -263.5889    148.580     -1.774      0.077    -555.515      28.337\n",
      "fri                348.4951     74.365      4.686      0.000     202.384     494.606\n",
      "mon                281.8596     65.377      4.311      0.000     153.410     410.309\n",
      "sat                  5.4260     53.634      0.101      0.919     -99.952     110.804\n",
      "sun                -34.4723     53.150     -0.649      0.517    -138.900      69.955\n",
      "thur               177.7772     75.936      2.341      0.020      28.581     326.973\n",
      "tue                174.9970     76.857      2.277      0.023      23.991     326.003\n",
      "wed                171.1463     77.561      2.207      0.028      18.758     323.535\n",
      "==============================================================================\n",
      "Omnibus:                      140.802   Durbin-Watson:                   0.995\n",
      "Prob(Omnibus):                  0.000   Jarque-Bera (JB):              441.011\n",
      "Skew:                           1.285   Prob(JB):                     1.72e-96\n",
      "Kurtosis:                       6.756   Cond. No.                     3.55e+19\n",
      "==============================================================================\n",
      "\n",
      "Notes:\n",
      "[1] Standard Errors assume that the covariance matrix of the errors is correctly specified.\n",
      "[2] The smallest eigenvalue is 4.44e-30. This might indicate that there are\n",
      "strong multicollinearity problems or that the design matrix is singular.\n"
     ]
    }
   ],
   "source": [
    "regression_results(X_train,y_train)"
   ]
  },
  {
   "cell_type": "code",
   "execution_count": 11,
   "id": "dfe3e275",
   "metadata": {},
   "outputs": [],
   "source": [
    "# non linear gbm,adaboosting. bagging, auto regression ,\n",
    "#tree based model cannot extraplote,it is not good interpolation which has min and max values,\n",
    "#so for time series tree based model cannot work \n",
    "\n",
    "#in cross sectional data tree based model will give good result,\n",
    "#in longitudinaL dont use tree based model\n",
    "# use vector auto regression"
   ]
  },
  {
   "cell_type": "code",
   "execution_count": 13,
   "id": "835f704d",
   "metadata": {},
   "outputs": [
    {
     "name": "stdout",
     "output_type": "stream",
     "text": [
      "                            OLS Regression Results                            \n",
      "==============================================================================\n",
      "Dep. Variable:                    cnt   R-squared:                       0.952\n",
      "Model:                            OLS   Adj. R-squared:                  0.949\n",
      "Method:                 Least Squares   F-statistic:                     293.4\n",
      "Date:                Sat, 18 Jun 2022   Prob (F-statistic):          3.71e-127\n",
      "Time:                        22:10:23   Log-Likelihood:                -1607.2\n",
      "No. Observations:                 220   AIC:                             3244.\n",
      "Df Residuals:                     205   BIC:                             3295.\n",
      "Df Model:                          14                                         \n",
      "Covariance Type:            nonrobust                                         \n",
      "====================================================================================\n",
      "                       coef    std err          t      P>|t|      [0.025      0.975]\n",
      "------------------------------------------------------------------------------------\n",
      "season             -36.5664     40.424     -0.905      0.367    -116.267      43.134\n",
      "yr                3070.6151    466.254      6.586      0.000    2151.346    3989.884\n",
      "mnth               -71.2719     26.827     -2.657      0.009    -124.164     -18.379\n",
      "weathersit         -52.6470     68.920     -0.764      0.446    -188.530      83.236\n",
      "temp               683.6547    304.300      2.247      0.026      83.695    1283.614\n",
      "registered           1.1766      0.030     39.357      0.000       1.118       1.236\n",
      "weekend           -171.2416    144.798     -1.183      0.238    -456.727     114.243\n",
      "daytype          -1077.6370    158.811     -6.786      0.000   -1390.750    -764.524\n",
      "windspeed_median  -343.6784    371.416     -0.925      0.356   -1075.963     388.606\n",
      "hum_median        -197.9213    306.430     -0.646      0.519    -802.080     406.238\n",
      "fri                855.2735    132.569      6.452      0.000     593.901    1116.646\n",
      "mon                676.3067    117.871      5.738      0.000     443.911     908.702\n",
      "sat                 19.0943     89.050      0.214      0.830    -156.477     194.666\n",
      "sun               -190.3359     84.055     -2.264      0.025    -356.059     -24.613\n",
      "thur               579.7081    126.295      4.590      0.000     330.704     828.712\n",
      "tue                572.5708    129.442      4.423      0.000     317.362     827.779\n",
      "wed                557.9976    126.292      4.418      0.000     309.000     806.996\n",
      "==============================================================================\n",
      "Omnibus:                       18.876   Durbin-Watson:                   1.393\n",
      "Prob(Omnibus):                  0.000   Jarque-Bera (JB):               33.889\n",
      "Skew:                           0.460   Prob(JB):                     4.38e-08\n",
      "Kurtosis:                       4.688   Cond. No.                     9.27e+19\n",
      "==============================================================================\n",
      "\n",
      "Notes:\n",
      "[1] Standard Errors assume that the covariance matrix of the errors is correctly specified.\n",
      "[2] The smallest eigenvalue is 6.93e-31. This might indicate that there are\n",
      "strong multicollinearity problems or that the design matrix is singular.\n"
     ]
    }
   ],
   "source": [
    "regression_results(X_test,y_test)"
   ]
  },
  {
   "cell_type": "code",
   "execution_count": null,
   "id": "482c7519",
   "metadata": {},
   "outputs": [],
   "source": []
  }
 ],
 "metadata": {
  "kernelspec": {
   "display_name": "Python 3",
   "language": "python",
   "name": "python3"
  },
  "language_info": {
   "codemirror_mode": {
    "name": "ipython",
    "version": 3
   },
   "file_extension": ".py",
   "mimetype": "text/x-python",
   "name": "python",
   "nbconvert_exporter": "python",
   "pygments_lexer": "ipython3",
   "version": "3.8.8"
  }
 },
 "nbformat": 4,
 "nbformat_minor": 5
}
