{
 "cells": [
  {
   "cell_type": "code",
   "execution_count": 1,
   "id": "c8f69488",
   "metadata": {},
   "outputs": [],
   "source": [
    "import pandas as pd\n",
    "import numpy as np\n",
    "import matplotlib.pyplot as plt\n",
    "import seaborn as sns\n",
    "%matplotlib inline"
   ]
  },
  {
   "cell_type": "code",
   "execution_count": 2,
   "id": "e42a4095",
   "metadata": {},
   "outputs": [],
   "source": [
    "df=pd.read_csv(\"Model2.csv\")"
   ]
  },
  {
   "cell_type": "code",
   "execution_count": 3,
   "id": "3ecb34d5",
   "metadata": {},
   "outputs": [],
   "source": [
    "df.drop([\"Unnamed: 0\"],axis=1,inplace=True)"
   ]
  },
  {
   "cell_type": "code",
   "execution_count": 4,
   "id": "6b9e3657",
   "metadata": {},
   "outputs": [
    {
     "data": {
      "text/plain": [
       "Index(['season', 'yr', 'mnth', 'weathersit', 'temp', 'registered', 'cnt',\n",
       "       'weekend', 'daytype', 'windspeed_median', 'hum_median', 'fri', 'mon',\n",
       "       'sat', 'sun', 'thur', 'tue', 'wed'],\n",
       "      dtype='object')"
      ]
     },
     "execution_count": 4,
     "metadata": {},
     "output_type": "execute_result"
    }
   ],
   "source": [
    "df.columns"
   ]
  },
  {
   "cell_type": "code",
   "execution_count": 5,
   "id": "e9e0cfbc",
   "metadata": {},
   "outputs": [],
   "source": [
    "X=df.drop([\"cnt\"],axis=1)"
   ]
  },
  {
   "cell_type": "code",
   "execution_count": 6,
   "id": "ef4f6910",
   "metadata": {},
   "outputs": [],
   "source": [
    "y=df[\"cnt\"]"
   ]
  },
  {
   "cell_type": "code",
   "execution_count": 7,
   "id": "be1261dd",
   "metadata": {},
   "outputs": [],
   "source": [
    "from sklearn.model_selection import train_test_split\n",
    "X_train, X_test, y_train, y_test = train_test_split(X, y, test_size=0.3,shuffle=False, random_state=1)"
   ]
  },
  {
   "cell_type": "code",
   "execution_count": 8,
   "id": "7a4132c2",
   "metadata": {},
   "outputs": [],
   "source": [
    "import statsmodels.api as sm"
   ]
  },
  {
   "cell_type": "code",
   "execution_count": 9,
   "id": "13429a0e",
   "metadata": {},
   "outputs": [],
   "source": [
    "def regression_results(x,y):\n",
    "    x=sm.add_constant(x)\n",
    "    model=sm.OLS(y,x).fit()\n",
    "    print(model.summary())"
   ]
  },
  {
   "cell_type": "code",
   "execution_count": 10,
   "id": "9188b584",
   "metadata": {},
   "outputs": [
    {
     "name": "stdout",
     "output_type": "stream",
     "text": [
      "                            OLS Regression Results                            \n",
      "==============================================================================\n",
      "Dep. Variable:                    cnt   R-squared:                       0.955\n",
      "Model:                            OLS   Adj. R-squared:                  0.954\n",
      "Method:                 Least Squares   F-statistic:                     698.9\n",
      "Date:                Thu, 19 May 2022   Prob (F-statistic):          1.20e-321\n",
      "Time:                        15:20:25   Log-Likelihood:                -3698.4\n",
      "No. Observations:                 511   AIC:                             7429.\n",
      "Df Residuals:                     495   BIC:                             7497.\n",
      "Df Model:                          15                                         \n",
      "Covariance Type:            nonrobust                                         \n",
      "====================================================================================\n",
      "                       coef    std err          t      P>|t|      [0.025      0.975]\n",
      "------------------------------------------------------------------------------------\n",
      "const             1125.2290    241.245      4.664      0.000     651.239    1599.219\n",
      "season               0.2291     30.058      0.008      0.994     -58.828      59.286\n",
      "yr                -144.4466     64.419     -2.242      0.025    -271.014     -17.879\n",
      "mnth               -22.3790      9.180     -2.438      0.015     -40.416      -4.342\n",
      "weathersit          16.9746     39.245      0.433      0.666     -60.133      94.082\n",
      "temp              1187.5747    135.167      8.786      0.000     922.002    1453.147\n",
      "registered           1.2482      0.028     43.940      0.000       1.192       1.304\n",
      "weekend            -29.0463     90.291     -0.322      0.748    -206.446     148.354\n",
      "daytype           -603.8592    101.162     -5.969      0.000    -802.620    -405.099\n",
      "windspeed_median  -605.3759    215.923     -2.804      0.005   -1029.615    -181.137\n",
      "hum_median        -263.5889    148.580     -1.774      0.077    -555.515      28.337\n",
      "fri                348.4951     74.365      4.686      0.000     202.384     494.606\n",
      "mon                281.8596     65.377      4.311      0.000     153.410     410.309\n",
      "sat                  5.4260     53.634      0.101      0.919     -99.952     110.804\n",
      "sun                -34.4723     53.150     -0.649      0.517    -138.900      69.955\n",
      "thur               177.7772     75.936      2.341      0.020      28.581     326.973\n",
      "tue                174.9970     76.857      2.277      0.023      23.991     326.003\n",
      "wed                171.1463     77.561      2.207      0.028      18.758     323.535\n",
      "==============================================================================\n",
      "Omnibus:                      140.802   Durbin-Watson:                   0.995\n",
      "Prob(Omnibus):                  0.000   Jarque-Bera (JB):              441.011\n",
      "Skew:                           1.285   Prob(JB):                     1.72e-96\n",
      "Kurtosis:                       6.756   Cond. No.                     3.55e+19\n",
      "==============================================================================\n",
      "\n",
      "Notes:\n",
      "[1] Standard Errors assume that the covariance matrix of the errors is correctly specified.\n",
      "[2] The smallest eigenvalue is 4.44e-30. This might indicate that there are\n",
      "strong multicollinearity problems or that the design matrix is singular.\n"
     ]
    }
   ],
   "source": [
    "regression_results(X_train,y_train)"
   ]
  },
  {
   "cell_type": "code",
   "execution_count": 11,
   "id": "dfe3e275",
   "metadata": {},
   "outputs": [],
   "source": [
    "# non linear gbm,adaboosting. bagging, auto regression ,\n",
    "#tree based model cannot extraplote,it is not good interpolation which has min and max values,\n",
    "#so for time series tree based model cannot work \n",
    "\n",
    "#in cross sectional data tree based model will give good result,\n",
    "#in longitudinaL dont ude tree based model\n",
    "# use vector auto regression"
   ]
  },
  {
   "cell_type": "code",
   "execution_count": null,
   "id": "835f704d",
   "metadata": {},
   "outputs": [],
   "source": []
  }
 ],
 "metadata": {
  "kernelspec": {
   "display_name": "Python 3",
   "language": "python",
   "name": "python3"
  },
  "language_info": {
   "codemirror_mode": {
    "name": "ipython",
    "version": 3
   },
   "file_extension": ".py",
   "mimetype": "text/x-python",
   "name": "python",
   "nbconvert_exporter": "python",
   "pygments_lexer": "ipython3",
   "version": "3.8.8"
  }
 },
 "nbformat": 4,
 "nbformat_minor": 5
}
