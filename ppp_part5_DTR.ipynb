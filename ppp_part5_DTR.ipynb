{
 "cells": [
  {
   "cell_type": "code",
   "execution_count": 1,
   "id": "8cf384d3",
   "metadata": {},
   "outputs": [],
   "source": [
    "import pandas as pd\n",
    "import numpy as np\n",
    "import matplotlib.pyplot as plt\n",
    "import seaborn as sns\n",
    "%matplotlib inline\n",
    "\n",
    "df=pd.read_csv(\"Model2.csv\")\n",
    "df.drop([\"Unnamed: 0\"],axis=1,inplace=True)\n",
    "X=df.drop([\"cnt\"],axis=1)\n",
    "y=df[\"cnt\"]"
   ]
  },
  {
   "cell_type": "code",
   "execution_count": 2,
   "id": "9cef3575",
   "metadata": {},
   "outputs": [],
   "source": [
    "from sklearn.model_selection import GridSearchCV, cross_val_score, cross_val_predict, train_test_split\n",
    "X_train, X_test, y_train, y_test = train_test_split(X, y, test_size=0.3,shuffle=False ,random_state=1)"
   ]
  },
  {
   "cell_type": "code",
   "execution_count": 3,
   "id": "154b855d",
   "metadata": {},
   "outputs": [],
   "source": [
    "from sklearn.tree import DecisionTreeRegressor"
   ]
  },
  {
   "cell_type": "code",
   "execution_count": 4,
   "id": "0a88e6a9",
   "metadata": {},
   "outputs": [],
   "source": [
    "dtr = DecisionTreeRegressor(max_depth=4,\n",
    "                           min_samples_split=5,\n",
    "                           max_leaf_nodes=10)"
   ]
  },
  {
   "cell_type": "code",
   "execution_count": 18,
   "id": "29185e9d",
   "metadata": {},
   "outputs": [
    {
     "data": {
      "text/plain": [
       "0.9079116128661248"
      ]
     },
     "execution_count": 18,
     "metadata": {},
     "output_type": "execute_result"
    }
   ],
   "source": [
    "dtr.fit(X,y)\n",
    "dtr.score(X_train,y_train)"
   ]
  },
  {
   "cell_type": "code",
   "execution_count": 6,
   "id": "e937c9fc",
   "metadata": {},
   "outputs": [
    {
     "data": {
      "text/plain": [
       "0.8921671357239317"
      ]
     },
     "execution_count": 6,
     "metadata": {},
     "output_type": "execute_result"
    }
   ],
   "source": [
    "dtr.score(X_test,y_test)"
   ]
  },
  {
   "cell_type": "markdown",
   "id": "ced7c9e9",
   "metadata": {},
   "source": [
    "# Hyperparameter tuning\n"
   ]
  },
  {
   "cell_type": "code",
   "execution_count": 7,
   "id": "9e5fac49",
   "metadata": {},
   "outputs": [],
   "source": [
    "param_grid = {\"criterion\": [\"mse\", \"mae\"],\n",
    "              \"min_samples_split\": [10, 20, 40],\n",
    "              \"max_depth\": [2, 6, 8],\n",
    "              \"min_samples_leaf\": [20, 40, 100],\n",
    "              \"max_leaf_nodes\": [5, 20, 100],\n",
    "              }\n",
    "\n"
   ]
  },
  {
   "cell_type": "code",
   "execution_count": 8,
   "id": "1dd9c5a4",
   "metadata": {},
   "outputs": [
    {
     "data": {
      "text/plain": [
       "GridSearchCV(cv=10,\n",
       "             estimator=DecisionTreeRegressor(max_depth=4, max_leaf_nodes=10,\n",
       "                                             min_samples_split=5),\n",
       "             param_grid={'criterion': ['mse', 'mae'], 'max_depth': [2, 6, 8],\n",
       "                         'max_leaf_nodes': [5, 20, 100],\n",
       "                         'min_samples_leaf': [20, 40, 100],\n",
       "                         'min_samples_split': [10, 20, 40]})"
      ]
     },
     "execution_count": 8,
     "metadata": {},
     "output_type": "execute_result"
    }
   ],
   "source": [
    "grid_cv_dtr = GridSearchCV(dtr, param_grid, cv=10)\n",
    "\n",
    "grid_cv_dtr.fit(X,y)"
   ]
  },
  {
   "cell_type": "code",
   "execution_count": 9,
   "id": "bd9f9756",
   "metadata": {},
   "outputs": [
    {
     "data": {
      "text/plain": [
       "0.6957653072058795"
      ]
     },
     "execution_count": 9,
     "metadata": {},
     "output_type": "execute_result"
    }
   ],
   "source": [
    "grid_cv_dtr.best_score_"
   ]
  },
  {
   "cell_type": "code",
   "execution_count": 10,
   "id": "a1e82bf7",
   "metadata": {},
   "outputs": [
    {
     "data": {
      "text/plain": [
       "{'criterion': 'mae',\n",
       " 'max_depth': 8,\n",
       " 'max_leaf_nodes': 100,\n",
       " 'min_samples_leaf': 20,\n",
       " 'min_samples_split': 10}"
      ]
     },
     "execution_count": 10,
     "metadata": {},
     "output_type": "execute_result"
    }
   ],
   "source": [
    "grid_cv_dtr.best_params_"
   ]
  },
  {
   "cell_type": "code",
   "execution_count": 11,
   "id": "b167161f",
   "metadata": {},
   "outputs": [
    {
     "data": {
      "text/plain": [
       "DecisionTreeRegressor(criterion='mae', max_depth=8, max_leaf_nodes=100,\n",
       "                      min_samples_leaf=20, min_samples_split=10)"
      ]
     },
     "execution_count": 11,
     "metadata": {},
     "output_type": "execute_result"
    }
   ],
   "source": [
    "grid_cv_dtr.best_estimator_"
   ]
  },
  {
   "cell_type": "code",
   "execution_count": 12,
   "id": "17bfdc4c",
   "metadata": {},
   "outputs": [
    {
     "data": {
      "text/html": [
       "<div>\n",
       "<style scoped>\n",
       "    .dataframe tbody tr th:only-of-type {\n",
       "        vertical-align: middle;\n",
       "    }\n",
       "\n",
       "    .dataframe tbody tr th {\n",
       "        vertical-align: top;\n",
       "    }\n",
       "\n",
       "    .dataframe thead th {\n",
       "        text-align: right;\n",
       "    }\n",
       "</style>\n",
       "<table border=\"1\" class=\"dataframe\">\n",
       "  <thead>\n",
       "    <tr style=\"text-align: right;\">\n",
       "      <th></th>\n",
       "      <th>mean_fit_time</th>\n",
       "      <th>std_fit_time</th>\n",
       "      <th>mean_score_time</th>\n",
       "      <th>std_score_time</th>\n",
       "      <th>param_criterion</th>\n",
       "      <th>param_max_depth</th>\n",
       "      <th>param_max_leaf_nodes</th>\n",
       "      <th>param_min_samples_leaf</th>\n",
       "      <th>param_min_samples_split</th>\n",
       "      <th>params</th>\n",
       "      <th>...</th>\n",
       "      <th>split3_test_score</th>\n",
       "      <th>split4_test_score</th>\n",
       "      <th>split5_test_score</th>\n",
       "      <th>split6_test_score</th>\n",
       "      <th>split7_test_score</th>\n",
       "      <th>split8_test_score</th>\n",
       "      <th>split9_test_score</th>\n",
       "      <th>mean_test_score</th>\n",
       "      <th>std_test_score</th>\n",
       "      <th>rank_test_score</th>\n",
       "    </tr>\n",
       "  </thead>\n",
       "  <tbody>\n",
       "    <tr>\n",
       "      <th>0</th>\n",
       "      <td>0.006137</td>\n",
       "      <td>0.001617</td>\n",
       "      <td>0.005668</td>\n",
       "      <td>0.003197</td>\n",
       "      <td>mse</td>\n",
       "      <td>2</td>\n",
       "      <td>5</td>\n",
       "      <td>20</td>\n",
       "      <td>10</td>\n",
       "      <td>{'criterion': 'mse', 'max_depth': 2, 'max_leaf...</td>\n",
       "      <td>...</td>\n",
       "      <td>0.257943</td>\n",
       "      <td>0.38702</td>\n",
       "      <td>0.260349</td>\n",
       "      <td>0.285346</td>\n",
       "      <td>-0.224484</td>\n",
       "      <td>-0.373134</td>\n",
       "      <td>0.655226</td>\n",
       "      <td>-0.007731</td>\n",
       "      <td>0.556862</td>\n",
       "      <td>61</td>\n",
       "    </tr>\n",
       "    <tr>\n",
       "      <th>1</th>\n",
       "      <td>0.007979</td>\n",
       "      <td>0.001980</td>\n",
       "      <td>0.006261</td>\n",
       "      <td>0.002544</td>\n",
       "      <td>mse</td>\n",
       "      <td>2</td>\n",
       "      <td>5</td>\n",
       "      <td>20</td>\n",
       "      <td>20</td>\n",
       "      <td>{'criterion': 'mse', 'max_depth': 2, 'max_leaf...</td>\n",
       "      <td>...</td>\n",
       "      <td>0.257943</td>\n",
       "      <td>0.38702</td>\n",
       "      <td>0.260349</td>\n",
       "      <td>0.285346</td>\n",
       "      <td>-0.224484</td>\n",
       "      <td>-0.373134</td>\n",
       "      <td>0.655226</td>\n",
       "      <td>-0.007731</td>\n",
       "      <td>0.556862</td>\n",
       "      <td>61</td>\n",
       "    </tr>\n",
       "    <tr>\n",
       "      <th>2</th>\n",
       "      <td>0.006534</td>\n",
       "      <td>0.002822</td>\n",
       "      <td>0.004618</td>\n",
       "      <td>0.003398</td>\n",
       "      <td>mse</td>\n",
       "      <td>2</td>\n",
       "      <td>5</td>\n",
       "      <td>20</td>\n",
       "      <td>40</td>\n",
       "      <td>{'criterion': 'mse', 'max_depth': 2, 'max_leaf...</td>\n",
       "      <td>...</td>\n",
       "      <td>0.257943</td>\n",
       "      <td>0.38702</td>\n",
       "      <td>0.260349</td>\n",
       "      <td>0.285346</td>\n",
       "      <td>-0.224484</td>\n",
       "      <td>-0.373134</td>\n",
       "      <td>0.655226</td>\n",
       "      <td>-0.007731</td>\n",
       "      <td>0.556862</td>\n",
       "      <td>61</td>\n",
       "    </tr>\n",
       "    <tr>\n",
       "      <th>3</th>\n",
       "      <td>0.007329</td>\n",
       "      <td>0.002380</td>\n",
       "      <td>0.002291</td>\n",
       "      <td>0.002043</td>\n",
       "      <td>mse</td>\n",
       "      <td>2</td>\n",
       "      <td>5</td>\n",
       "      <td>40</td>\n",
       "      <td>10</td>\n",
       "      <td>{'criterion': 'mse', 'max_depth': 2, 'max_leaf...</td>\n",
       "      <td>...</td>\n",
       "      <td>0.257943</td>\n",
       "      <td>0.38702</td>\n",
       "      <td>0.260349</td>\n",
       "      <td>0.285346</td>\n",
       "      <td>-0.224484</td>\n",
       "      <td>-0.373134</td>\n",
       "      <td>0.655226</td>\n",
       "      <td>-0.007731</td>\n",
       "      <td>0.556862</td>\n",
       "      <td>61</td>\n",
       "    </tr>\n",
       "    <tr>\n",
       "      <th>4</th>\n",
       "      <td>0.006870</td>\n",
       "      <td>0.004260</td>\n",
       "      <td>0.005381</td>\n",
       "      <td>0.003175</td>\n",
       "      <td>mse</td>\n",
       "      <td>2</td>\n",
       "      <td>5</td>\n",
       "      <td>40</td>\n",
       "      <td>20</td>\n",
       "      <td>{'criterion': 'mse', 'max_depth': 2, 'max_leaf...</td>\n",
       "      <td>...</td>\n",
       "      <td>0.257943</td>\n",
       "      <td>0.38702</td>\n",
       "      <td>0.260349</td>\n",
       "      <td>0.285346</td>\n",
       "      <td>-0.224484</td>\n",
       "      <td>-0.373134</td>\n",
       "      <td>0.655226</td>\n",
       "      <td>-0.007731</td>\n",
       "      <td>0.556862</td>\n",
       "      <td>61</td>\n",
       "    </tr>\n",
       "  </tbody>\n",
       "</table>\n",
       "<p>5 rows × 23 columns</p>\n",
       "</div>"
      ],
      "text/plain": [
       "   mean_fit_time  std_fit_time  mean_score_time  std_score_time  \\\n",
       "0       0.006137      0.001617         0.005668        0.003197   \n",
       "1       0.007979      0.001980         0.006261        0.002544   \n",
       "2       0.006534      0.002822         0.004618        0.003398   \n",
       "3       0.007329      0.002380         0.002291        0.002043   \n",
       "4       0.006870      0.004260         0.005381        0.003175   \n",
       "\n",
       "  param_criterion param_max_depth param_max_leaf_nodes param_min_samples_leaf  \\\n",
       "0             mse               2                    5                     20   \n",
       "1             mse               2                    5                     20   \n",
       "2             mse               2                    5                     20   \n",
       "3             mse               2                    5                     40   \n",
       "4             mse               2                    5                     40   \n",
       "\n",
       "  param_min_samples_split                                             params  \\\n",
       "0                      10  {'criterion': 'mse', 'max_depth': 2, 'max_leaf...   \n",
       "1                      20  {'criterion': 'mse', 'max_depth': 2, 'max_leaf...   \n",
       "2                      40  {'criterion': 'mse', 'max_depth': 2, 'max_leaf...   \n",
       "3                      10  {'criterion': 'mse', 'max_depth': 2, 'max_leaf...   \n",
       "4                      20  {'criterion': 'mse', 'max_depth': 2, 'max_leaf...   \n",
       "\n",
       "   ...  split3_test_score  split4_test_score  split5_test_score  \\\n",
       "0  ...           0.257943            0.38702           0.260349   \n",
       "1  ...           0.257943            0.38702           0.260349   \n",
       "2  ...           0.257943            0.38702           0.260349   \n",
       "3  ...           0.257943            0.38702           0.260349   \n",
       "4  ...           0.257943            0.38702           0.260349   \n",
       "\n",
       "   split6_test_score  split7_test_score  split8_test_score  split9_test_score  \\\n",
       "0           0.285346          -0.224484          -0.373134           0.655226   \n",
       "1           0.285346          -0.224484          -0.373134           0.655226   \n",
       "2           0.285346          -0.224484          -0.373134           0.655226   \n",
       "3           0.285346          -0.224484          -0.373134           0.655226   \n",
       "4           0.285346          -0.224484          -0.373134           0.655226   \n",
       "\n",
       "   mean_test_score  std_test_score  rank_test_score  \n",
       "0        -0.007731        0.556862               61  \n",
       "1        -0.007731        0.556862               61  \n",
       "2        -0.007731        0.556862               61  \n",
       "3        -0.007731        0.556862               61  \n",
       "4        -0.007731        0.556862               61  \n",
       "\n",
       "[5 rows x 23 columns]"
      ]
     },
     "execution_count": 12,
     "metadata": {},
     "output_type": "execute_result"
    }
   ],
   "source": [
    "df1 = pd.DataFrame(data=grid_cv_dtr.cv_results_)\n",
    "df1.head()"
   ]
  },
  {
   "cell_type": "code",
   "execution_count": 13,
   "id": "e76f8661",
   "metadata": {},
   "outputs": [
    {
     "data": {
      "text/plain": [
       "[Text(0.5, 1.0, 'Effect of Depth and Leaf Nodes on Model Performance')]"
      ]
     },
     "execution_count": 13,
     "metadata": {},
     "output_type": "execute_result"
    },
    {
     "data": {
      "image/png": "[encoded data removed]",
      "text/plain": [
       "<Figure size 432x288 with 1 Axes>"
      ]
     },
     "metadata": {
      "needs_background": "light"
     },
     "output_type": "display_data"
    }
   ],
   "source": [
    "fig,ax = plt.subplots()\n",
    "sns.pointplot(data=df1[['mean_test_score',\n",
    "                           'param_max_leaf_nodes',\n",
    "                           'param_max_depth']],\n",
    "             y='mean_test_score',x='param_max_depth',\n",
    "             hue='param_max_leaf_nodes',ax=ax)\n",
    "ax.set(title=\"Effect of Depth and Leaf Nodes on Model Performance\")"
   ]
  },
  {
   "cell_type": "code",
   "execution_count": 14,
   "id": "93f05830",
   "metadata": {},
   "outputs": [
    {
     "data": {
      "image/png": "[encoded data removed]",
      "text/plain": [
       "<Figure size 432x288 with 1 Axes>"
      ]
     },
     "metadata": {
      "needs_background": "light"
     },
     "output_type": "display_data"
    }
   ],
   "source": [
    "# Evaluating training model\n",
    "predicted = grid_cv_dtr.best_estimator_.predict(X)\n",
    "residuals = y-predicted\n",
    "\n",
    "fig, ax = plt.subplots()\n",
    "ax.scatter(y, residuals)\n",
    "ax.axhline(lw=2,color='black')\n",
    "ax.set_xlabel('Observed')\n",
    "ax.set_ylabel('Residual')\n",
    "plt.show()"
   ]
  },
  {
   "cell_type": "code",
   "execution_count": 15,
   "id": "2a5065e9",
   "metadata": {},
   "outputs": [
    {
     "data": {
      "text/plain": [
       "array([ 985. ,  985. , 1448. , 1729. , 1729. , 1729. , 1448. ,  985. ,\n",
       "        985. , 1448. , 1448. , 1448. , 1448. , 1448. ,  985. ,  985. ,\n",
       "        985. ,  985. , 1729. , 2200.5, 1729. ,  985. ,  985. , 1448. ,\n",
       "       1977. ,  985. ,  985. , 1448. ,  985. ,  985. , 1729. , 1448. ,\n",
       "       1729. , 1729. , 1729. ,  985. , 1448. , 1729. , 1729. , 1729. ,\n",
       "       1729. , 1729. , 1448. , 1448. , 1977. , 1729. , 2200.5, 2646. ,\n",
       "       2646. , 1448. , 1448. ,  985. , 1448. , 1977. , 1977. , 1448. ,\n",
       "       1729. , 1977. , 1448. , 1977. , 2200.5, 1729. , 1977. , 1729. ,\n",
       "        985. , 1729. , 2200.5, 1977. ,  985. , 1977. , 1729. , 1729. ,\n",
       "       1977. , 1977. , 2200.5, 2646. , 2646. , 1977. , 1729. , 1977. ,\n",
       "       2646. , 2200.5, 1977. , 2200.5, 1729. , 1448. , 1977. , 2200.5,\n",
       "       1448. , 1729. , 2200.5, 1448. , 1729. , 2646. , 1729. , 2646. ,\n",
       "       2934. , 1448. , 1729. , 1977. , 2934. , 1977. , 2200.5, 2934. ,\n",
       "       3341. ,  985. , 3341. , 2934. , 2934. , 3855. , 4189. , 1729. ,\n",
       "       4067. , 4067. , 3855. , 4400.5, 3855. , 4189. , 4400.5, 5041. ,\n",
       "       3341. , 4189. , 4610.5, 2646. , 4400.5, 4400.5, 4511. , 4511. ,\n",
       "       4400.5, 4702. , 4189. , 4702. , 3855. , 4067. , 4511. , 3855. ,\n",
       "       4189. , 3855. , 4610.5, 4702. , 6359. , 4511. , 4189. , 4400.5,\n",
       "       4839. , 4610.5, 4400.5, 4067. , 4067. , 4067. , 3855. , 4189. ,\n",
       "       4839. , 5115. , 5041. , 5041. , 4610.5, 4839. , 4400.5, 3855. ,\n",
       "       4400.5, 5041. , 4511. , 4839. , 4702. , 5115. , 3855. , 4839. ,\n",
       "       5041. , 4511. , 3855. , 4839. , 4610.5, 4839. , 4839. , 5041. ,\n",
       "       5041. , 4610.5, 4610.5, 5115. , 5115. , 4839. , 4511. , 4067. ,\n",
       "       4511. , 4189. , 4610.5, 4610.5, 3855. , 5041. , 4511. , 3855. ,\n",
       "       4189. , 4189. , 4839. , 4839. , 6359. , 5041. , 4189. , 4400.5,\n",
       "       4400.5, 3855. , 2934. , 4067. , 4067. , 3855. , 4610.5, 4610.5,\n",
       "       4400.5, 3855. , 4511. , 4067. , 4189. , 4839. , 3855. , 4400.5,\n",
       "       4610.5, 4067. , 4067. , 4189. , 4400.5, 4610.5, 4839. , 4610.5,\n",
       "       4067. , 4067. , 4189. , 4839. , 4839. , 3855. , 3855. , 5041. ,\n",
       "       4067. , 4610.5, 5720.5, 4839. , 3855. , 4610.5,  985. , 4511. ,\n",
       "       4610.5, 5115. , 5115. , 5115. , 4610.5, 4067. , 4067. , 4067. ,\n",
       "       2934. , 2200.5, 1977. , 3855. , 5464. , 5041. , 4839. , 4839. ,\n",
       "       4839. , 3855. , 4702. , 4511. , 4511. , 4610.5, 3855. , 4400.5,\n",
       "       4839. , 2646. , 5464. , 5041. , 4610.5, 4189. , 4189. , 4839. ,\n",
       "       5115. , 2200.5, 3341. , 3403. , 4610.5, 4702. , 4702. , 4702. ,\n",
       "       4511. , 4511. , 5464. , 4610.5, 2646. , 2934. , 3855. , 5041. ,\n",
       "       5041. , 4610.5, 4702. , 2646. , 4400.5, 4189. , 3341. , 3341. ,\n",
       "       4189. , 4702. , 4189. , 2646. , 3403. ,  985. , 3341. , 3403. ,\n",
       "       3959. , 3959. , 3959. , 3959. , 3341. , 3341. , 3959. , 3959. ,\n",
       "       3959. , 2934. , 4511. , 3341. , 3341. , 4610.5, 4400.5, 1729. ,\n",
       "       2934. , 3403. , 3341. , 4067. , 2934. , 1729. , 2934. ,  985. ,\n",
       "       1977. , 2200.5, 3341. , 4189. , 2934. , 3403. , 3959. , 3959. ,\n",
       "       3341. , 3341. , 3959. , 2934. ,  985. , 3403. , 3403. , 3341. ,\n",
       "       3341. , 3403. , 3403. , 3959. , 3959. , 3403. , 3341. , 3341. ,\n",
       "       3403. , 3959. , 2934. , 2934. , 2200.5,  985. ,  985. ,  985. ,\n",
       "        985. , 2200.5, 2646. , 2934. , 2200.5, 1729. , 1977. , 2646. ,\n",
       "       2646. , 3403. , 3959. , 5041. , 3341. , 2646. , 3403. , 2200.5,\n",
       "       3959. , 3403. , 3341. , 2200.5, 2200.5, 2934. , 3403. , 3403. ,\n",
       "       3403. , 1448. , 1977. , 2646. , 4610.5, 3959. , 3959. , 3403. ,\n",
       "       5041. , 3341. , 3959. , 4702. , 4702. , 3959. , 4610.5, 3341. ,\n",
       "       3341. , 3959. , 4702. , 2934. , 3959. , 3959. , 2200.5, 1729. ,\n",
       "       3403. , 3959. , 4702. , 3403. , 3959. , 3341. , 2200.5, 3341. ,\n",
       "       3959. , 5115. , 5115. , 3403. , 3341. , 3341. , 4702. , 4702. ,\n",
       "       1977. , 5720.5, 3403. , 4511. , 3341. , 3403. , 3959. , 5115. ,\n",
       "       5720.5, 4702. , 4511. , 5041. , 5115. , 6133. , 6572. , 6133. ,\n",
       "       4400.5, 7569.5, 6359. , 6133. , 6133. , 6133. , 6572. , 7006. ,\n",
       "       4067. , 5041. , 5720.5, 5459. , 5720.5, 6133. , 5459. , 6359. ,\n",
       "       6359. , 5720.5, 6572. , 6572. , 6133. , 5720.5, 6359. , 4511. ,\n",
       "       5720.5, 6133. , 5115. , 5459. , 6133. , 7569.5, 6359. , 6133. ,\n",
       "       6572. , 4702. , 6572. , 7006. , 6359. ,  985. , 3403. , 6133. ,\n",
       "       6572. , 5115. , 6133. , 4511. , 6359. , 5720.5, 6133. , 6572. ,\n",
       "       6572. , 6133. , 6359. , 6359. , 6133. , 5720.5, 4702. , 6572. ,\n",
       "       6572. , 7569.5, 6359. , 2934. , 5115. , 7424. , 7424. , 7424. ,\n",
       "       7569.5, 6359. , 4400.5, 6133. , 5115. , 6572. , 6572. , 6359. ,\n",
       "       5041. , 6359. , 5720.5, 7006. , 7424. , 4189. , 7569.5, 7569.5,\n",
       "       7006. , 7006. , 7006. , 7424. , 7424. , 7569.5, 6359. , 6572. ,\n",
       "       5115. , 7424. , 7424. , 7006. , 7569.5, 6359. , 5115. , 7006. ,\n",
       "       6572. , 6133. , 5720.5, 7569.5, 6359. , 6572. , 7424. , 7424. ,\n",
       "       7006. , 5720.5, 6359. , 6359. , 6572. , 6572. , 5720.5, 5720.5,\n",
       "       5720.5, 5041. , 5041. , 6572. , 6572. , 7424. , 7424. , 7006. ,\n",
       "       7569.5, 6359. , 6572. , 7006. , 5720.5, 6572. , 6133. , 4511. ,\n",
       "       7569.5, 7006. , 7424. , 7697. , 7006. , 6572. , 6359. , 6359. ,\n",
       "       7006. , 7424. , 7697. , 7424. , 7006. , 5464. , 5464. , 6572. ,\n",
       "       7006. , 7424. , 7006. , 5720.5, 5464. , 5464. , 6572. , 6572. ,\n",
       "       7424. , 7424. , 6572. , 7569.5, 5041. , 6572. , 7006. , 7424. ,\n",
       "       7424. , 7424. , 5464. , 5464. , 7006. , 7006. , 7697. , 7697. ,\n",
       "       7006. , 5464. , 5041. , 5464. , 7006. , 7424. , 6572. , 7424. ,\n",
       "       5464. , 7569.5, 7424. , 7697. , 7697. , 7697. , 7697. , 7569.5,\n",
       "       7569.5, 7006. , 4400.5, 7697. , 7697. , 7697. , 7006. , 7569.5,\n",
       "       7424. , 7697. , 7697. , 7697. , 7424. , 7006. , 7569.5, 7006. ,\n",
       "       4702. , 7697. , 7424. , 7697. , 7569.5, 3341. , 5459. , 6572. ,\n",
       "       7697. , 7697. , 7424. , 7569.5, 7569.5, 6133. , 7697. , 7424. ,\n",
       "       7424. , 5720.5, 7569.5, 7569.5, 7424. , 7697. , 7697. , 7424. ,\n",
       "       7424. , 7569.5, 5041. ,  985. ,  985. , 5459. , 6572. , 5459. ,\n",
       "       5464. , 5464. , 5459. , 5459. , 5459. , 5459. , 5459. , 5464. ,\n",
       "       7569.5, 6133. , 3959. , 5459. , 5459. , 5459. , 5464. , 5464. ,\n",
       "       5459. , 5459. , 5115. , 1729. , 2646. , 1977. , 3341. , 5459. ,\n",
       "       3959. , 5459. , 5459. , 5459. , 5464. , 5464. , 6572. , 7006. ,\n",
       "       6572. , 5459. , 5459. , 5464. , 3341. , 5720.5, 5459. , 5459. ,\n",
       "       5459. , 5459. , 5464. , 5041. , 5115. , 6133. , 5459. , 3959. ,\n",
       "       3403. , 1729. , 1729. ,  985. ,  985. ,  985. , 2200.5, 2646. ,\n",
       "       1448. , 1729. , 2646. ])"
      ]
     },
     "execution_count": 15,
     "metadata": {},
     "output_type": "execute_result"
    }
   ],
   "source": [
    "predicted = grid_cv_dtr.best_estimator_.predict(X)\n",
    "predicted"
   ]
  },
  {
   "cell_type": "code",
   "execution_count": 16,
   "id": "24991797",
   "metadata": {},
   "outputs": [
    {
     "name": "stdout",
     "output_type": "stream",
     "text": [
      "avg R-squared::0.696\n",
      "MSE::-247253.285\n"
     ]
    }
   ],
   "source": [
    "# Checking the training model scores\n",
    "r2_scores = cross_val_score(grid_cv_dtr.best_estimator_, X, y, cv=10)\n",
    "mse_scores = cross_val_score(grid_cv_dtr.best_estimator_, X, y, cv=10,scoring='neg_mean_squared_error')\n",
    "\n",
    "print(\"avg R-squared::{:.3f}\".format(np.mean(r2_scores)))\n",
    "print(\"MSE::{:.3f}\".format(np.mean(mse_scores)))"
   ]
  },
  {
   "cell_type": "code",
   "execution_count": 17,
   "id": "9516b401",
   "metadata": {},
   "outputs": [
    {
     "name": "stdout",
     "output_type": "stream",
     "text": [
      "R-squared:0.929\n",
      "MSE: 192693.20\n"
     ]
    }
   ],
   "source": [
    "#Test dataset evaluation\n",
    "from sklearn import metrics\n",
    "y_pred = grid_cv_dtr.best_estimator_.predict(X_test)\n",
    "residuals = y_test - y_pred\n",
    "\n",
    "\n",
    "r2_score = grid_cv_dtr.best_estimator_.score(X_test,y_test)\n",
    "print(\"R-squared:{:.3f}\".format(r2_score))\n",
    "print(\"MSE: %.2f\" % metrics.mean_squared_error(y_test, y_pred))"
   ]
  },
  {
   "cell_type": "code",
   "execution_count": null,
   "id": "748eadae",
   "metadata": {},
   "outputs": [],
   "source": []
  }
 ],
 "metadata": {
  "kernelspec": {
   "display_name": "Python 3",
   "language": "python",
   "name": "python3"
  },
  "language_info": {
   "codemirror_mode": {
    "name": "ipython",
    "version": 3
   },
   "file_extension": ".py",
   "mimetype": "text/x-python",
   "name": "python",
   "nbconvert_exporter": "python",
   "pygments_lexer": "ipython3",
   "version": "3.8.8"
  }
 },
 "nbformat": 4,
 "nbformat_minor": 5
}
